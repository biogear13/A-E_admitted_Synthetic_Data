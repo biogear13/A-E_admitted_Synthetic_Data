{
 "cells": [
  {
   "attachments": {},
   "cell_type": "markdown",
   "metadata": {},
   "source": [
    "# Part I - Accident and Emergency Department Synthetic Admission Data Analysis\n",
    "## by Generoso Roberto"
   ]
  },
  {
   "attachments": {},
   "cell_type": "markdown",
   "metadata": {},
   "source": [
    "## Introduction"
   ]
  },
  {
   "attachments": {},
   "cell_type": "markdown",
   "metadata": {},
   "source": [
    "Analysis of health care data has a huge potential to improve health services and patient outcomes but practicing and creating analytical tools and processes is tricky since patient privacy needs to be preserved. The dataset that is used is the A&E Synthetic Data which created as a result of an NHS England pilot project to share more data without sacrifising the privacy of patients. The project used statistical models to that tries create datasets that retains the value of the original data but can not be used to re-identify specific individual records. "
   ]
  },
  {
   "attachments": {},
   "cell_type": "markdown",
   "metadata": {},
   "source": [
    "This provides an opportunity for us to get to look and analyze the A&E data that NHS collects. For this analysis the focus is on admitted cases in just one hospital."
   ]
  },
  {
   "attachments": {},
   "cell_type": "markdown",
   "metadata": {},
   "source": [
    "The columns in the dataset are the following:\n",
    "* `IMD_Decile_From_LSOA` - measure of deprivation. A score of 1 indicates the entry comes from the 10% most deprived area in England\n",
    "* `Age_Band` - The interval of the age of the patient\n",
    "* `Sex` - Coded in 1 and 2 to represent the two sexes\n",
    "* `AE_Arrive_Date` - The date the patient arrived at the A&E provider\n",
    "* `AE_Arrive_HourOfDay` - The interval of what time the patient arrived at the A&E\n",
    "* `AE_Time_Mins` - Total number of minutes the patient stayed in the A&E\n",
    "* `AE_HRG` - Code for the health reference group\n",
    "* `AE_Num_Diagnoses` - Number of diagnoses the patient have in the A&E\n",
    "* `AE_Num_Investigations` - Number of investigations done to the patient\n",
    "* `AE_Num_Treatments` - Number of treatments done to the patient\n",
    "* `AE_Arrival_Mode` - Code for the mode by which  patient arrived\n",
    "* `Provider_Patient_Distance_Miles` - Distance from the patient place of origin to the provider in miles\n",
    "* `Admission_Method` - Code for the method how the patient was admitted\n",
    "* `ICD10_Chapter_Code` - International classification of disease chapter code\n",
    "* `Treatment_Function_Code` - The treatment function under which the patient is treated.\n",
    "* `Length_Of_Stay_Days` - The number of days the patient was admitted"
   ]
  },
  {
   "attachments": {},
   "cell_type": "markdown",
   "metadata": {},
   "source": [
    "## Preliminary Data Wrangling"
   ]
  },
  {
   "cell_type": "code",
   "execution_count": 89,
   "metadata": {},
   "outputs": [],
   "source": [
    "# import all packages and set plots to be embedded inline\n",
    "import numpy as np\n",
    "import pandas as pd\n",
    "import matplotlib.pyplot as plt\n",
    "import seaborn as sns\n",
    "\n",
    "%matplotlib inline"
   ]
  },
  {
   "cell_type": "code",
   "execution_count": 90,
   "metadata": {},
   "outputs": [],
   "source": [
    "#Load the dataset\n",
    "aedata_df_original=pd.read_csv('AnE_Synthetic_Data_Provider_Admission.csv')\n",
    "aedata_df = aedata_df_original"
   ]
  },
  {
   "cell_type": "code",
   "execution_count": 91,
   "metadata": {},
   "outputs": [
    {
     "name": "stdout",
     "output_type": "stream",
     "text": [
      "(326444, 16)\n",
      "<class 'pandas.core.frame.DataFrame'>\n",
      "RangeIndex: 326444 entries, 0 to 326443\n",
      "Data columns (total 16 columns):\n",
      " #   Column                           Non-Null Count   Dtype  \n",
      "---  ------                           --------------   -----  \n",
      " 0   IMD_Decile_From_LSOA             326444 non-null  int64  \n",
      " 1   Age_Band                         326444 non-null  object \n",
      " 2   Sex                              326444 non-null  int64  \n",
      " 3   AE_Arrive_Date                   326444 non-null  object \n",
      " 4   AE_Arrive_HourOfDay              326444 non-null  object \n",
      " 5   AE_Time_Mins                     326444 non-null  float64\n",
      " 6   AE_HRG                           326372 non-null  object \n",
      " 7   AE_Num_Diagnoses                 326444 non-null  int64  \n",
      " 8   AE_Num_Investigations            326444 non-null  int64  \n",
      " 9   AE_Num_Treatments                326444 non-null  int64  \n",
      " 10  AE_Arrival_Mode                  326444 non-null  int64  \n",
      " 11  Provider_Patient_Distance_Miles  326444 non-null  float64\n",
      " 12  Admission_Method                 326444 non-null  object \n",
      " 13  ICD10_Chapter_Code               321821 non-null  object \n",
      " 14  Treatment_Function_Code          326421 non-null  object \n",
      " 15  Length_Of_Stay_Days              326420 non-null  float64\n",
      "dtypes: float64(3), int64(6), object(7)\n",
      "memory usage: 39.8+ MB\n",
      "None\n",
      "   IMD_Decile_From_LSOA Age_Band  Sex       AE_Arrive_Date  \\\n",
      "0                     2     1-17    2  2015-05-21 00:00:00   \n",
      "1                     2    65-84    1  2017-09-30 00:00:00   \n",
      "2                     3     1-17    2  2016-09-21 00:00:00   \n",
      "3                     1      85+    1  2014-03-23 00:00:00   \n",
      "4                     2     1-17    2  2017-11-11 00:00:00   \n",
      "5                     4    18-24    1  2018-01-13 00:00:00   \n",
      "6                     2     1-17    1  2015-07-24 00:00:00   \n",
      "7                     3    45-64    1  2014-09-22 00:00:00   \n",
      "8                     2    65-84    2  2016-02-23 00:00:00   \n",
      "9                     8    65-84    1  2017-11-15 00:00:00   \n",
      "\n",
      "  AE_Arrive_HourOfDay  AE_Time_Mins   AE_HRG  AE_Num_Diagnoses  \\\n",
      "0               17-20         290.0  Nothing                 0   \n",
      "1               13-16          90.0      Low                 1   \n",
      "2               17-20         240.0      Low                 0   \n",
      "3               05-08         240.0      Low                 3   \n",
      "4               13-16         130.0      Low                 0   \n",
      "5               13-16         240.0      Low                 0   \n",
      "6               17-20         230.0      Low                 1   \n",
      "7               21-24         400.0     High                 1   \n",
      "8               21-24         190.0      Low                 4   \n",
      "9               13-16         280.0      Low                 0   \n",
      "\n",
      "   AE_Num_Investigations  AE_Num_Treatments  AE_Arrival_Mode  \\\n",
      "0                      1                  2                2   \n",
      "1                      1                  1                2   \n",
      "2                      1                  1                2   \n",
      "3                      8                  3                1   \n",
      "4                     10                  3                2   \n",
      "5                      1                  1                2   \n",
      "6                      8                  3                2   \n",
      "7                      2                  3                2   \n",
      "8                     10                  4                1   \n",
      "9                      1                  1                1   \n",
      "\n",
      "   Provider_Patient_Distance_Miles Admission_Method ICD10_Chapter_Code  \\\n",
      "0                              4.0               28                XIV   \n",
      "1                              5.0               21                 XI   \n",
      "2                              1.0               21                  X   \n",
      "3                              2.0               21                 XI   \n",
      "4                              4.0               21              XVIII   \n",
      "5                              3.0               21                 XI   \n",
      "6                              2.0               21                  X   \n",
      "7                              1.0               21              Other   \n",
      "8                              1.0               21              Other   \n",
      "9                              5.0               21                XIV   \n",
      "\n",
      "  Treatment_Function_Code  Length_Of_Stay_Days  \n",
      "0                     420                  1.0  \n",
      "1                     100                  0.0  \n",
      "2                     420                  0.0  \n",
      "3                     300                  0.0  \n",
      "4                     180                  1.0  \n",
      "5                     100                  5.0  \n",
      "6                     180                  1.0  \n",
      "7                     100                  3.0  \n",
      "8                     300                 28.0  \n",
      "9                     300                  6.0  \n"
     ]
    }
   ],
   "source": [
    "# High-level overview of data shape and composition\n",
    "print(aedata_df.shape)\n",
    "print(aedata_df.info())\n",
    "print(aedata_df.head(10))"
   ]
  },
  {
   "attachments": {},
   "cell_type": "markdown",
   "metadata": {},
   "source": [
    "1. `AE_Arrive_Date` is an object and should be made into a datetime and extract the year and month\n",
    "2. The following columns are categorical types\n",
    "    * `Sex`\n",
    "    * `AE_Arrival_Mode`\n",
    "    * `Admission_Method`\n",
    "    * `ICD10_Chapter_Code`\n",
    "    * `Treatment_Function_Code`\n",
    "2. The following columns are ordered categorical types\n",
    "    * `IMD_Decile_From_LSOA`\n",
    "    * `Age_Band`\n",
    "    * `AE_Arrive_HourOfDay`\n",
    "    * `AE_HRG`\n",
    "3. The following columns have null values:\n",
    "    * `AE_HRG`\n",
    "    * `ICD10_Chapter_Code`\n",
    "    * `Treatment_Function_Code`\n",
    "    * `Length_Of_Stay_Days`"
   ]
  },
  {
   "cell_type": "code",
   "execution_count": 92,
   "metadata": {},
   "outputs": [
    {
     "name": "stdout",
     "output_type": "stream",
     "text": [
      "The datatype of the column AE_Arrive_Date is datetime64[ns]\n"
     ]
    },
    {
     "data": {
      "text/plain": [
       "0         2015-05\n",
       "1         2017-09\n",
       "2         2016-09\n",
       "3         2014-03\n",
       "4         2017-11\n",
       "           ...   \n",
       "326439    2017-11\n",
       "326440    2017-05\n",
       "326441    2015-07\n",
       "326442    2016-08\n",
       "326443    2017-08\n",
       "Name: Year_Month, Length: 326444, dtype: period[M]"
      ]
     },
     "execution_count": 92,
     "metadata": {},
     "output_type": "execute_result"
    }
   ],
   "source": [
    "# 1. Convert 'AE_Arrive_Date' to datetime\n",
    "aedata_df['AE_Arrive_Date']=pd.to_datetime(aedata_df['AE_Arrive_Date'])\n",
    "# Check the dtype of 'AE_Arrive_Date'\n",
    "print(f\"The datatype of the column AE_Arrive_Date is {aedata_df['AE_Arrive_Date'].dtype}\")\n",
    "# Extract year and month\n",
    "aedata_df['Year_Month'] = aedata_df['AE_Arrive_Date'].dt.to_period('M')\n",
    "# Check the Year_Month column\n",
    "aedata_df['Year_Month']"
   ]
  },
  {
   "cell_type": "code",
   "execution_count": 93,
   "metadata": {},
   "outputs": [
    {
     "data": {
      "text/plain": [
       "Sex                        category\n",
       "AE_Arrival_Mode            category\n",
       "Admission_Method           category\n",
       "ICD10_Chapter_Code         category\n",
       "Treatment_Function_Code    category\n",
       "dtype: object"
      ]
     },
     "execution_count": 93,
     "metadata": {},
     "output_type": "execute_result"
    }
   ],
   "source": [
    "# 2. Convert columns into categorical type\n",
    "# Create a function that converts columns into category\n",
    "def covert_to_categorical(df, column_list):\n",
    "    for column in column_list:\n",
    "        df[column] = df[column].astype('category')\n",
    "# Create a list of columns to be made into category\n",
    "categorical_columns = [\\\n",
    "    'Sex',\n",
    "    'AE_Arrival_Mode',\n",
    "    'Admission_Method',\n",
    "    'ICD10_Chapter_Code',\n",
    "    'Treatment_Function_Code'\n",
    "    ]\n",
    "# Convert columns into category\n",
    "covert_to_categorical(aedata_df,categorical_columns)\n",
    "# Check the dtypes\n",
    "aedata_df[categorical_columns].dtypes"
   ]
  },
  {
   "cell_type": "code",
   "execution_count": 94,
   "metadata": {},
   "outputs": [
    {
     "name": "stdout",
     "output_type": "stream",
     "text": [
      "IMD_Decile_From_LSOA : [ 2  3  1  4  8  9  5  7  6 10]\n",
      "Age_Band : ['1-17' '65-84' '85+' '18-24' '45-64' '25-44']\n",
      "AE_Arrive_HourOfDay : ['17-20' '13-16' '05-08' '21-24' '09-12' '01-04']\n",
      "AE_HRG : ['Nothing' 'Low' 'High' 'Medium' nan]\n"
     ]
    }
   ],
   "source": [
    "# 3. Convert column to categorical types\n",
    "# Create a list of columns to be made into ordered categorical data\n",
    "ordinal_columns = [\\\n",
    "    'IMD_Decile_From_LSOA',\n",
    "    'Age_Band',\n",
    "    'AE_Arrive_HourOfDay',\n",
    "    'AE_HRG'\n",
    "    ]\n",
    "# Check the different values of the columns to be changed into ordered category\n",
    "# Create a function to print the unique values\n",
    "def check_unique_values(df, column_list):\n",
    "    for column in column_list:\n",
    "        print(f'{column} : {df[column].unique()}')\n",
    "# Check the unique values of the identified ordered categorical types\n",
    "check_unique_values(aedata_df, ordinal_columns)"
   ]
  },
  {
   "cell_type": "code",
   "execution_count": 95,
   "metadata": {},
   "outputs": [],
   "source": [
    "# Convert the ordered_categorical_columns into category type\n",
    "covert_to_categorical(aedata_df,ordinal_columns)\n",
    "# Create a dictionary that shows the order of the values\n",
    "ordinal_columns_dict={\\\n",
    "    'IMD_Decile_From_LSOA': [1,2,3,4,5,6,7,8,9,10],\n",
    "    'Age_Band':['1-17','18-24','25-44', '45-64', '65-84', '85+'],\n",
    "    'AE_Arrive_HourOfDay':['01-04','05-08','09-12','13-16','17-20','21-24'],\n",
    "    'AE_HRG':['Nothing','Low','Medium','High']\n",
    "    }\n",
    "# Create a function that uses a dictionary to order the ordinal columns\n",
    "def order_categorical(df, column_dict):\n",
    "    for column in column_dict:\n",
    "        df[column] = df[column].cat.set_categories(column_dict[column], ordered=True)\n",
    "# Order the ordinal categorical data\n",
    "order_categorical(aedata_df,ordinal_columns_dict)"
   ]
  },
  {
   "cell_type": "code",
   "execution_count": 96,
   "metadata": {},
   "outputs": [
    {
     "name": "stdout",
     "output_type": "stream",
     "text": [
      "0         2\n",
      "1         2\n",
      "2         3\n",
      "3         1\n",
      "4         2\n",
      "         ..\n",
      "326439    1\n",
      "326440    3\n",
      "326441    3\n",
      "326442    2\n",
      "326443    2\n",
      "Name: IMD_Decile_From_LSOA, Length: 326444, dtype: category\n",
      "Categories (10, int64): [1 < 2 < 3 < 4 ... 7 < 8 < 9 < 10]\n",
      "0          1-17\n",
      "1         65-84\n",
      "2          1-17\n",
      "3           85+\n",
      "4          1-17\n",
      "          ...  \n",
      "326439     1-17\n",
      "326440    65-84\n",
      "326441    25-44\n",
      "326442    45-64\n",
      "326443    65-84\n",
      "Name: Age_Band, Length: 326444, dtype: category\n",
      "Categories (6, object): ['1-17' < '18-24' < '25-44' < '45-64' < '65-84' < '85+']\n",
      "0         17-20\n",
      "1         13-16\n",
      "2         17-20\n",
      "3         05-08\n",
      "4         13-16\n",
      "          ...  \n",
      "326439    21-24\n",
      "326440    21-24\n",
      "326441    01-04\n",
      "326442    17-20\n",
      "326443    13-16\n",
      "Name: AE_Arrive_HourOfDay, Length: 326444, dtype: category\n",
      "Categories (6, object): ['01-04' < '05-08' < '09-12' < '13-16' < '17-20' < '21-24']\n",
      "0         Nothing\n",
      "1             Low\n",
      "2             Low\n",
      "3             Low\n",
      "4             Low\n",
      "           ...   \n",
      "326439     Medium\n",
      "326440     Medium\n",
      "326441     Medium\n",
      "326442     Medium\n",
      "326443        Low\n",
      "Name: AE_HRG, Length: 326444, dtype: category\n",
      "Categories (4, object): ['Nothing' < 'Low' < 'Medium' < 'High']\n"
     ]
    }
   ],
   "source": [
    "# Check the ordinal columns\n",
    "for column in ordinal_columns:\n",
    "    print(aedata_df[column])"
   ]
  },
  {
   "cell_type": "code",
   "execution_count": 97,
   "metadata": {},
   "outputs": [
    {
     "name": "stdout",
     "output_type": "stream",
     "text": [
      "       IMD_Decile_From_LSOA Age_Band Sex AE_Arrive_Date AE_Arrive_HourOfDay  \\\n",
      "42                        5    65-84   1     2017-01-05               05-08   \n",
      "90                        3    65-84   2     2018-01-09               13-16   \n",
      "190                       1     1-17   1     2017-03-28               05-08   \n",
      "231                       2     1-17   2     2016-07-05               09-12   \n",
      "289                       1     1-17   1     2015-08-26               09-12   \n",
      "...                     ...      ...  ..            ...                 ...   \n",
      "326188                    2    25-44   2     2016-01-30               13-16   \n",
      "326324                    6    65-84   2     2016-09-03               09-12   \n",
      "326343                    5    45-64   2     2018-03-18               09-12   \n",
      "326358                    4    25-44   1     2015-04-12               13-16   \n",
      "326364                    2    65-84   2     2016-03-24               21-24   \n",
      "\n",
      "        AE_Time_Mins   AE_HRG  AE_Num_Diagnoses  AE_Num_Investigations  \\\n",
      "42             320.0     High                 0                     10   \n",
      "90             160.0   Medium                 0                     10   \n",
      "190            320.0  Nothing                 0                      1   \n",
      "231            220.0   Medium                 0                      5   \n",
      "289            140.0   Medium                 0                     10   \n",
      "...              ...      ...               ...                    ...   \n",
      "326188         170.0      Low                 0                      1   \n",
      "326324         220.0      Low                 0                      5   \n",
      "326343         360.0      Low                 1                      2   \n",
      "326358         210.0     High                 1                      7   \n",
      "326364         600.0     High                 0                     10   \n",
      "\n",
      "        AE_Num_Treatments AE_Arrival_Mode  Provider_Patient_Distance_Miles  \\\n",
      "42                      5               1                              5.0   \n",
      "90                      3               1                              5.0   \n",
      "190                     1               1                              1.0   \n",
      "231                     5               1                              2.0   \n",
      "289                     6               1                              0.0   \n",
      "...                   ...             ...                              ...   \n",
      "326188                  4               2                              1.0   \n",
      "326324                  3               1                              2.0   \n",
      "326343                  0               2                            152.0   \n",
      "326358                  6               2                              3.0   \n",
      "326364                  5               1                              2.0   \n",
      "\n",
      "       Admission_Method ICD10_Chapter_Code Treatment_Function_Code  \\\n",
      "42                   21                NaN                     300   \n",
      "90                   21                NaN                     300   \n",
      "190                  21                NaN                     100   \n",
      "231                  21                NaN                     420   \n",
      "289                  21                NaN                   OTHER   \n",
      "...                 ...                ...                     ...   \n",
      "326188               21                NaN                     300   \n",
      "326324               21                NaN                     100   \n",
      "326343               21                NaN                     100   \n",
      "326358               21                NaN                     300   \n",
      "326364               21                NaN                     300   \n",
      "\n",
      "        Length_Of_Stay_Days Year_Month  \n",
      "42                      3.0    2017-01  \n",
      "90                      0.0    2018-01  \n",
      "190                     0.0    2017-03  \n",
      "231                     1.0    2016-07  \n",
      "289                     0.0    2015-08  \n",
      "...                     ...        ...  \n",
      "326188                  0.0    2016-01  \n",
      "326324                  8.0    2016-09  \n",
      "326343                 11.0    2018-03  \n",
      "326358                  0.0    2015-04  \n",
      "326364                  1.0    2016-03  \n",
      "\n",
      "[4696 rows x 17 columns]\n"
     ]
    }
   ],
   "source": [
    "# 4. Check the rows that have null values\n",
    "print(aedata_df[aedata_df.isna().any(axis=1)])"
   ]
  },
  {
   "attachments": {},
   "cell_type": "markdown",
   "metadata": {},
   "source": [
    "What percentage of the rows in the dataset have missing values?"
   ]
  },
  {
   "cell_type": "code",
   "execution_count": 98,
   "metadata": {},
   "outputs": [
    {
     "name": "stdout",
     "output_type": "stream",
     "text": [
      "1.44 % of rows have a null value.\n"
     ]
    }
   ],
   "source": [
    "# Compute the percentage of rows that have missing values\n",
    "print(f\"{round(len(aedata_df[aedata_df.isna().any(axis=1)])/len(aedata_df)*100,2)} % of rows have a null value.\")"
   ]
  },
  {
   "attachments": {},
   "cell_type": "markdown",
   "metadata": {},
   "source": [
    "Theoretically, these null values would need to be farther assessed. Weather the null values are missing in a systematic way or purely random, weather the missing values could be imputed etc. But in the interest of time, I decided to remove the rows that have null values."
   ]
  },
  {
   "cell_type": "code",
   "execution_count": 99,
   "metadata": {},
   "outputs": [
    {
     "name": "stdout",
     "output_type": "stream",
     "text": [
      "<class 'pandas.core.frame.DataFrame'>\n",
      "Int64Index: 321748 entries, 0 to 326443\n",
      "Data columns (total 17 columns):\n",
      " #   Column                           Non-Null Count   Dtype         \n",
      "---  ------                           --------------   -----         \n",
      " 0   IMD_Decile_From_LSOA             321748 non-null  category      \n",
      " 1   Age_Band                         321748 non-null  category      \n",
      " 2   Sex                              321748 non-null  category      \n",
      " 3   AE_Arrive_Date                   321748 non-null  datetime64[ns]\n",
      " 4   AE_Arrive_HourOfDay              321748 non-null  category      \n",
      " 5   AE_Time_Mins                     321748 non-null  float64       \n",
      " 6   AE_HRG                           321748 non-null  category      \n",
      " 7   AE_Num_Diagnoses                 321748 non-null  int64         \n",
      " 8   AE_Num_Investigations            321748 non-null  int64         \n",
      " 9   AE_Num_Treatments                321748 non-null  int64         \n",
      " 10  AE_Arrival_Mode                  321748 non-null  category      \n",
      " 11  Provider_Patient_Distance_Miles  321748 non-null  float64       \n",
      " 12  Admission_Method                 321748 non-null  category      \n",
      " 13  ICD10_Chapter_Code               321748 non-null  category      \n",
      " 14  Treatment_Function_Code          321748 non-null  category      \n",
      " 15  Length_Of_Stay_Days              321748 non-null  float64       \n",
      " 16  Year_Month                       321748 non-null  period[M]     \n",
      "dtypes: category(9), datetime64[ns](1), float64(3), int64(3), period[M](1)\n",
      "memory usage: 24.9 MB\n"
     ]
    }
   ],
   "source": [
    "# Remove rows that have null values\n",
    "aedata_df.dropna(axis=0,inplace=True)\n",
    "# Check again the info of the working dataframe\n",
    "aedata_df.info()"
   ]
  },
  {
   "attachments": {},
   "cell_type": "markdown",
   "metadata": {},
   "source": [
    "### What is the structure of your dataset?\n",
    "\n",
    "> There are 321,749 A&E patient consult in the working dataset with 17 features. Two are date or period data, 6 are numeric variables, \n",
    "\n",
    "### What is/are the main feature(s) of interest in your dataset?\n",
    "\n",
    "> Your answer here!\n",
    "\n",
    "### What features in the dataset do you think will help support your investigation into your feature(s) of interest?\n",
    "\n",
    "> Your answer here!"
   ]
  },
  {
   "cell_type": "markdown",
   "metadata": {},
   "source": [
    "## Univariate Exploration\n",
    "\n",
    "> In this section, investigate distributions of individual variables. If\n",
    "you see unusual points or outliers, take a deeper look to clean things up\n",
    "and prepare yourself to look at relationships between variables.\n",
    "\n",
    "\n",
    "> **Rubric Tip**: The project (Parts I alone) should have at least 15 visualizations distributed over univariate, bivariate, and multivariate plots to explore many relationships in the data set.  Use reasoning to justify the flow of the exploration.\n",
    "\n",
    "\n",
    "\n",
    ">**Rubric Tip**: Use the \"Question-Visualization-Observations\" framework  throughout the exploration. This framework involves **asking a question from the data, creating a visualization to find answers, and then recording observations after each visualisation.** \n"
   ]
  },
  {
   "cell_type": "code",
   "execution_count": null,
   "metadata": {},
   "outputs": [],
   "source": []
  },
  {
   "cell_type": "markdown",
   "metadata": {},
   "source": [
    "\n",
    "\n",
    ">**Rubric Tip**: Visualizations should depict the data appropriately so that the plots are easily interpretable. You should choose an appropriate plot type, data encodings, and formatting as needed. The formatting may include setting/adding the title, labels, legend, and comments. Also, do not overplot or incorrectly plot ordinal data."
   ]
  },
  {
   "cell_type": "code",
   "execution_count": null,
   "metadata": {},
   "outputs": [],
   "source": []
  },
  {
   "cell_type": "markdown",
   "metadata": {},
   "source": [
    "### Discuss the distribution(s) of your variable(s) of interest. Were there any unusual points? Did you need to perform any transformations?\n",
    "\n",
    "> Your answer here!\n",
    "\n",
    "### Of the features you investigated, were there any unusual distributions? Did you perform any operations on the data to tidy, adjust, or change the form of the data? If so, why did you do this?\n",
    "\n",
    "> Your answer here!"
   ]
  },
  {
   "cell_type": "markdown",
   "metadata": {},
   "source": [
    "## Bivariate Exploration\n",
    "\n",
    "> In this section, investigate relationships between pairs of variables in your\n",
    "data. Make sure the variables that you cover here have been introduced in some\n",
    "fashion in the previous section (univariate exploration)."
   ]
  },
  {
   "cell_type": "code",
   "execution_count": null,
   "metadata": {},
   "outputs": [],
   "source": []
  },
  {
   "cell_type": "markdown",
   "metadata": {},
   "source": [
    "### Talk about some of the relationships you observed in this part of the investigation. How did the feature(s) of interest vary with other features in the dataset?\n",
    "\n",
    "> Your answer here!\n",
    "\n",
    "### Did you observe any interesting relationships between the other features (not the main feature(s) of interest)?\n",
    "\n",
    "> Your answer here!"
   ]
  },
  {
   "cell_type": "markdown",
   "metadata": {},
   "source": [
    "## Multivariate Exploration\n",
    "\n",
    "> Create plots of three or more variables to investigate your data even\n",
    "further. Make sure that your investigations are justified, and follow from\n",
    "your work in the previous sections."
   ]
  },
  {
   "cell_type": "code",
   "execution_count": null,
   "metadata": {},
   "outputs": [],
   "source": []
  },
  {
   "cell_type": "markdown",
   "metadata": {},
   "source": [
    "### Talk about some of the relationships you observed in this part of the investigation. Were there features that strengthened each other in terms of looking at your feature(s) of interest?\n",
    "\n",
    "> Your answer here!\n",
    "\n",
    "### Were there any interesting or surprising interactions between features?\n",
    "\n",
    "> Your answer here!"
   ]
  },
  {
   "cell_type": "markdown",
   "metadata": {},
   "source": [
    "## Conclusions\n",
    ">You can write a summary of the main findings and reflect on the steps taken during the data exploration.\n"
   ]
  },
  {
   "cell_type": "markdown",
   "metadata": {},
   "source": [
    "\n",
    "> Remove all Tips mentioned above, before you convert this notebook to PDF/HTML\n",
    "\n",
    "\n",
    "> At the end of your report, make sure that you export the notebook as an\n",
    "html file from the `File > Download as... > HTML or PDF` menu. Make sure you keep\n",
    "track of where the exported file goes, so you can put it in the same folder\n",
    "as this notebook for project submission. Also, make sure you remove all of\n",
    "the quote-formatted guide notes like this one before you finish your report!\n",
    "\n"
   ]
  },
  {
   "cell_type": "code",
   "execution_count": null,
   "metadata": {},
   "outputs": [],
   "source": []
  }
 ],
 "metadata": {
  "kernelspec": {
   "display_name": "minimal_ds",
   "language": "python",
   "name": "python3"
  },
  "language_info": {
   "codemirror_mode": {
    "name": "ipython",
    "version": 3
   },
   "file_extension": ".py",
   "mimetype": "text/x-python",
   "name": "python",
   "nbconvert_exporter": "python",
   "pygments_lexer": "ipython3",
   "version": "3.10.0"
  },
  "vscode": {
   "interpreter": {
    "hash": "faa3abadd7b8b9169c06be42e72c83f3ab18538879e29609763ee83ad051eacb"
   }
  }
 },
 "nbformat": 4,
 "nbformat_minor": 2
}
