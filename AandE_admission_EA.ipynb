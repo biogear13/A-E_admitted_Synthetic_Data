{
 "cells": [
  {
   "attachments": {},
   "cell_type": "markdown",
   "metadata": {},
   "source": [
    "# Part I - Accident and Emergency Department Synthetic Admission Data Analysis\n",
    "## by Generoso Roberto"
   ]
  },
  {
   "attachments": {},
   "cell_type": "markdown",
   "metadata": {},
   "source": [
    "## Introduction"
   ]
  },
  {
   "attachments": {},
   "cell_type": "markdown",
   "metadata": {},
   "source": [
    "Analysis of health care data has a huge potential to improve health services and patient outcomes but practicing and creating analytical tools and processes is tricky since patient privacy needs to be preserved. The dataset that is used is the A&E Synthetic Data which created as a result of an NHS England pilot project to share more data without sacrifising the privacy of patients. The project used statistical models to that tries create datasets that retains the value of the original data but can not be used to re-identify specific individual records. "
   ]
  },
  {
   "attachments": {},
   "cell_type": "markdown",
   "metadata": {},
   "source": [
    "This provides an opportunity for us to get to look and analyze the A&E data that NHS collects. For this analysis the focus is on admitted cases in just one hospital."
   ]
  },
  {
   "attachments": {},
   "cell_type": "markdown",
   "metadata": {},
   "source": [
    "The columns in the dataset are the following:\n",
    "* `IMD_Decile_From_LSOA` - measure of deprivation. A score of 1 indicates the entry comes from the 10% most deprived area in England\n",
    "* `Age_Band` - The interval of the age of the patient\n",
    "* `Sex` - Coded in 1 and 2 to represent the two sexes\n",
    "* `AE_Arrive_Date` - The date the patient arrived at the A&E provider\n",
    "* `AE_Arrive_HourOfDay` - The interval of what time the patient arrived at the A&E\n",
    "* `AE_Time_Mins` - Total number of minutes the patient stayed in the A&E\n",
    "* `AE_HRG` - Code for the health reference group\n",
    "* `AE_Num_Diagnoses` - Number of diagnoses the patient have in the A&E\n",
    "* `AE_Num_Investigations` - Number of investigations done to the patient\n",
    "* `AE_Num_Treatments` - Number of treatments done to the patient\n",
    "* `AE_Arrival_Mode` - Code for the mode by which  patient arrived\n",
    "* `Provider_Patient_Distance_Miles` - Distance from the patient place of origin to the provider in miles\n",
    "* `Admission_Method` - Code for the method how the patient was admitted\n",
    "* `ICD10_Chapter_Code` - International classification of disease chapter code\n",
    "* `Treatment_Function_Code` - The treatment function under which the patient is treated.\n",
    "* `Length_Of_Stay_Days` - The number of days the patient was admitted"
   ]
  },
  {
   "attachments": {},
   "cell_type": "markdown",
   "metadata": {},
   "source": [
    "## Preliminary Data Wrangling"
   ]
  },
  {
   "cell_type": "code",
   "execution_count": 90,
   "metadata": {},
   "outputs": [],
   "source": [
    "# import all packages and set plots to be embedded inline\n",
    "import numpy as np\n",
    "import pandas as pd\n",
    "import matplotlib as mpl\n",
    "import matplotlib.pyplot as plt\n",
    "import seaborn as sns\n",
    "\n",
    "%matplotlib inline"
   ]
  },
  {
   "cell_type": "code",
   "execution_count": 91,
   "metadata": {},
   "outputs": [],
   "source": [
    "#Load the dataset\n",
    "aedata_df_original=pd.read_csv('AnE_Synthetic_Data_Provider_Admission.csv')\n",
    "aedata_df = aedata_df_original"
   ]
  },
  {
   "cell_type": "code",
   "execution_count": 92,
   "metadata": {},
   "outputs": [
    {
     "name": "stdout",
     "output_type": "stream",
     "text": [
      "(326444, 16)\n",
      "<class 'pandas.core.frame.DataFrame'>\n",
      "RangeIndex: 326444 entries, 0 to 326443\n",
      "Data columns (total 16 columns):\n",
      " #   Column                           Non-Null Count   Dtype  \n",
      "---  ------                           --------------   -----  \n",
      " 0   IMD_Decile_From_LSOA             326444 non-null  int64  \n",
      " 1   Age_Band                         326444 non-null  object \n",
      " 2   Sex                              326444 non-null  int64  \n",
      " 3   AE_Arrive_Date                   326444 non-null  object \n",
      " 4   AE_Arrive_HourOfDay              326444 non-null  object \n",
      " 5   AE_Time_Mins                     326444 non-null  float64\n",
      " 6   AE_HRG                           326372 non-null  object \n",
      " 7   AE_Num_Diagnoses                 326444 non-null  int64  \n",
      " 8   AE_Num_Investigations            326444 non-null  int64  \n",
      " 9   AE_Num_Treatments                326444 non-null  int64  \n",
      " 10  AE_Arrival_Mode                  326444 non-null  int64  \n",
      " 11  Provider_Patient_Distance_Miles  326444 non-null  float64\n",
      " 12  Admission_Method                 326444 non-null  object \n",
      " 13  ICD10_Chapter_Code               321821 non-null  object \n",
      " 14  Treatment_Function_Code          326421 non-null  object \n",
      " 15  Length_Of_Stay_Days              326420 non-null  float64\n",
      "dtypes: float64(3), int64(6), object(7)\n",
      "memory usage: 39.8+ MB\n",
      "None\n",
      "   IMD_Decile_From_LSOA Age_Band  Sex       AE_Arrive_Date  \\\n",
      "0                     2     1-17    2  2015-05-21 00:00:00   \n",
      "1                     2    65-84    1  2017-09-30 00:00:00   \n",
      "2                     3     1-17    2  2016-09-21 00:00:00   \n",
      "3                     1      85+    1  2014-03-23 00:00:00   \n",
      "4                     2     1-17    2  2017-11-11 00:00:00   \n",
      "5                     4    18-24    1  2018-01-13 00:00:00   \n",
      "6                     2     1-17    1  2015-07-24 00:00:00   \n",
      "7                     3    45-64    1  2014-09-22 00:00:00   \n",
      "8                     2    65-84    2  2016-02-23 00:00:00   \n",
      "9                     8    65-84    1  2017-11-15 00:00:00   \n",
      "\n",
      "  AE_Arrive_HourOfDay  AE_Time_Mins   AE_HRG  AE_Num_Diagnoses  \\\n",
      "0               17-20         290.0  Nothing                 0   \n",
      "1               13-16          90.0      Low                 1   \n",
      "2               17-20         240.0      Low                 0   \n",
      "3               05-08         240.0      Low                 3   \n",
      "4               13-16         130.0      Low                 0   \n",
      "5               13-16         240.0      Low                 0   \n",
      "6               17-20         230.0      Low                 1   \n",
      "7               21-24         400.0     High                 1   \n",
      "8               21-24         190.0      Low                 4   \n",
      "9               13-16         280.0      Low                 0   \n",
      "\n",
      "   AE_Num_Investigations  AE_Num_Treatments  AE_Arrival_Mode  \\\n",
      "0                      1                  2                2   \n",
      "1                      1                  1                2   \n",
      "2                      1                  1                2   \n",
      "3                      8                  3                1   \n",
      "4                     10                  3                2   \n",
      "5                      1                  1                2   \n",
      "6                      8                  3                2   \n",
      "7                      2                  3                2   \n",
      "8                     10                  4                1   \n",
      "9                      1                  1                1   \n",
      "\n",
      "   Provider_Patient_Distance_Miles Admission_Method ICD10_Chapter_Code  \\\n",
      "0                              4.0               28                XIV   \n",
      "1                              5.0               21                 XI   \n",
      "2                              1.0               21                  X   \n",
      "3                              2.0               21                 XI   \n",
      "4                              4.0               21              XVIII   \n",
      "5                              3.0               21                 XI   \n",
      "6                              2.0               21                  X   \n",
      "7                              1.0               21              Other   \n",
      "8                              1.0               21              Other   \n",
      "9                              5.0               21                XIV   \n",
      "\n",
      "  Treatment_Function_Code  Length_Of_Stay_Days  \n",
      "0                     420                  1.0  \n",
      "1                     100                  0.0  \n",
      "2                     420                  0.0  \n",
      "3                     300                  0.0  \n",
      "4                     180                  1.0  \n",
      "5                     100                  5.0  \n",
      "6                     180                  1.0  \n",
      "7                     100                  3.0  \n",
      "8                     300                 28.0  \n",
      "9                     300                  6.0  \n",
      "IMD_Decile_From_LSOA: [ 2  3  1  4  8  9  5  7  6 10]\n",
      "Age_Band: ['1-17' '65-84' '85+' '18-24' '45-64' '25-44']\n",
      "Sex: [2 1]\n",
      "AE_Arrive_Date: ['2015-05-21 00:00:00' '2017-09-30 00:00:00' '2016-09-21 00:00:00' ...\n",
      " '2014-05-29 00:00:00' '2015-03-27 00:00:00' '2015-08-28 00:00:00']\n",
      "AE_Arrive_HourOfDay: ['17-20' '13-16' '05-08' '21-24' '09-12' '01-04']\n",
      "AE_Time_Mins: [ 290.   90.  240.  130.  230.  400.  190.  280.   20.  180.  390.  310.\n",
      "   30.  550.  470.  100.  210.  360.  860.  380.   10.  520.  260.  420.\n",
      "  480.  440.  580.  320.  490.  160.  330.  250.  220.  200.  450.   60.\n",
      "  300.   50.  660.  120.  350.   40.  110.  460.  430.  410.  760.  170.\n",
      " 1100.  530.  960.  910.  340.  150. 1060.  270.   80.  570.  800.    0.\n",
      "  500.  620.  940.  920.  540.  600.  690.  560.  740.  140.  900.  790.\n",
      "  640. 1000.  700.  870.  950.  590.  370.  930.  650.  780.  830.  890.\n",
      "  610. 1120.  680.  730.  630.  510. 1180.  850.   70.  750. 1040.  810.\n",
      "  670. 1370.  840.  770.  970. 1030.  720.  880.  820. 1010.  980. 1090.\n",
      "  710.  990. 1050. 1230. 1260. 1110. 1290. 1310. 1240. 1390. 1430. 1020.\n",
      " 1170. 1190. 1150. 1070. 1080. 1210. 1130. 1270. 1320. 1330. 1160. 1220.\n",
      " 1200. 1250. 1140. 1380. 1280. 1410. 1300. 1400. 1350. 1340. 1360. 1440.\n",
      " 1420.]\n",
      "AE_HRG: ['Nothing' 'Low' 'High' 'Medium' nan]\n",
      "AE_Num_Diagnoses: [ 0  1  3  4  2  6  5  8 10  7  9]\n",
      "AE_Num_Investigations: [ 1  8 10  2  7  9  4  6  3  5  0]\n",
      "AE_Num_Treatments: [ 2  1  3  4  5  6  7  8 10  0  9]\n",
      "AE_Arrival_Mode: [2 1 0]\n",
      "Provider_Patient_Distance_Miles: [  4.   5.   1.   2.   3.   7.   9.   6.  10.  13.   0.   8.  48.  11.\n",
      "  14.  12.  50.  30.  25.  38.  51.  20.  26.  29. 200. 172. 106.  19.\n",
      "  27.  23. 162.  87.  22.  17.  24. 104.  45. 123. 170.  82.  70.  15.\n",
      " 108. 103. 193. 161.  33.  34.  67.  49.  32.  55. 111.  16.  54. 110.\n",
      "  37.  47.  39. 155.  66.  21. 116. 139.  40. 166. 100.  73.  18.  28.\n",
      " 176.  61. 192. 164. 151.  36.  31.  68.  63.  98.  65.  89.  52.  43.\n",
      "  60. 125. 160. 112.  91. 156. 121.  53.  57.  71.  58. 138. 107. 173.\n",
      " 178.  95.  64.  78. 180. 171. 163. 140.  90. 154. 175.  88.  35. 159.\n",
      " 115.  62.  76.  77. 113.  99. 184.  42.  46.  41.  72. 137. 142. 182.\n",
      " 150. 119. 144.  44. 105.  69. 169. 120. 129. 130.  86. 196. 185.  75.\n",
      " 191. 124.  96. 165.  83.  97. 102. 118. 168. 199. 109. 157. 127. 147.\n",
      " 134. 143. 114.  59.  94.  93. 167. 145.  56. 101.  74. 198. 152. 177.\n",
      " 194. 153.  85. 158.  79. 188.  92. 197. 136. 128. 186. 122. 132. 190.\n",
      "  84. 174. 179. 181. 189. 149. 117. 183. 187. 148. 126. 135.  80. 195.\n",
      " 141.  81. 131. 146. 133.]\n",
      "Admission_Method: ['28' '21' '23' '22' '2D' '25' '24' '2A' '2B']\n",
      "ICD10_Chapter_Code: ['XIV' 'XI' 'X' 'XVIII' 'Other' 'XIX' 'IX' nan]\n",
      "Treatment_Function_Code: ['420' '100' '300' '180' 'OTHER' nan]\n",
      "Length_Of_Stay_Days: [  1.   0.   5.   3.  28.   6.  21.  41.  20.  11.   2.  14.   4.  17.\n",
      "   9.  23.   8.  10.   7.  18.  15.  16.  66.  40.  65.  19.  12.  26.\n",
      "  13.  95.  29.  22.  37.  33.  43.  25.  56.  31.  38.  57.  49.  50.\n",
      " 116. 124.  35.  62.  34.  51.  27.  45.  60.  68.  71.  32.  46.  39.\n",
      "  24.  70. 180.  77.  36.  42. 156.  53.  75. 130.  55.  61.  85. 123.\n",
      " 145.  48.  30. 129.  44.  84. 108.  76.  58.  80.  88.  87. 103.  52.\n",
      "  47.  72.  73.  90.  64.  63.  82. 105.  59.  54.  96.  74.  89. 114.\n",
      " 139. 104.  67.  83. 122. 133.  69. 134.  79. 153. 118.  86.  81. 119.\n",
      "  91. 111. 147. 165. 164.  nan  97. 159. 150.  92. 107.  94. 149. 143.\n",
      " 110.  78. 140.  99. 102. 168.  93. 173. 132. 100. 176.  98. 175. 121.\n",
      " 152. 135. 115. 106. 166. 128. 127. 117. 109. 163. 161. 144. 138. 101.\n",
      " 172. 112. 120. 137. 146. 113. 125. 170. 155. 126. 151. 142. 160. 136.\n",
      " 162. 174. 169. 141. 131.]\n"
     ]
    }
   ],
   "source": [
    "# High-level overview of data shape and composition\n",
    "print(aedata_df.shape)\n",
    "print(aedata_df.info())\n",
    "print(aedata_df.head(10))\n",
    "columns = aedata_df.columns\n",
    "for column in columns:\n",
    "    print(f'{column}: {aedata_df[column].unique()}')"
   ]
  },
  {
   "attachments": {},
   "cell_type": "markdown",
   "metadata": {},
   "source": [
    "1. `AE_Arrive_Date` is an object and should be made into a datetime and extract the year and month\n",
    "2. The following columns are categorical types\n",
    "    * `Sex`\n",
    "    * `AE_Arrival_Mode`\n",
    "    * `Admission_Method`\n",
    "    * `ICD10_Chapter_Code`\n",
    "    * `Treatment_Function_Code`\n",
    "2. The following columns are ordered categorical types\n",
    "    * `IMD_Decile_From_LSOA`\n",
    "    * `Age_Band`\n",
    "    * `AE_Arrive_HourOfDay`\n",
    "    * `AE_HRG`\n",
    "3. The following columns have null values:\n",
    "    * `AE_HRG`\n",
    "    * `ICD10_Chapter_Code`\n",
    "    * `Treatment_Function_Code`\n",
    "    * `Length_Of_Stay_Days`"
   ]
  },
  {
   "cell_type": "code",
   "execution_count": 93,
   "metadata": {},
   "outputs": [
    {
     "name": "stdout",
     "output_type": "stream",
     "text": [
      "The datatype of the column AE_Arrive_Date is datetime64[ns]\n"
     ]
    },
    {
     "data": {
      "text/plain": [
       "0         2015-05\n",
       "1         2017-09\n",
       "2         2016-09\n",
       "3         2014-03\n",
       "4         2017-11\n",
       "           ...   \n",
       "326439    2017-11\n",
       "326440    2017-05\n",
       "326441    2015-07\n",
       "326442    2016-08\n",
       "326443    2017-08\n",
       "Name: Year_Month, Length: 326444, dtype: period[M]"
      ]
     },
     "execution_count": 93,
     "metadata": {},
     "output_type": "execute_result"
    }
   ],
   "source": [
    "# 1. Convert 'AE_Arrive_Date' to datetime\n",
    "aedata_df['AE_Arrive_Date']=pd.to_datetime(aedata_df['AE_Arrive_Date'])\n",
    "# Check the dtype of 'AE_Arrive_Date'\n",
    "print(f\"The datatype of the column AE_Arrive_Date is {aedata_df['AE_Arrive_Date'].dtype}\")\n",
    "# Extract year and month\n",
    "aedata_df['Year_Month'] = aedata_df['AE_Arrive_Date'].dt.to_period('M')\n",
    "# Check the Year_Month column\n",
    "aedata_df['Year_Month']"
   ]
  },
  {
   "cell_type": "code",
   "execution_count": 94,
   "metadata": {},
   "outputs": [
    {
     "data": {
      "text/plain": [
       "Sex                        category\n",
       "AE_Arrival_Mode            category\n",
       "Admission_Method           category\n",
       "ICD10_Chapter_Code         category\n",
       "Treatment_Function_Code    category\n",
       "dtype: object"
      ]
     },
     "execution_count": 94,
     "metadata": {},
     "output_type": "execute_result"
    }
   ],
   "source": [
    "# 2. Convert columns into categorical type\n",
    "# Create a function that converts columns into category\n",
    "def covert_to_categorical(df, column_list):\n",
    "    for column in column_list:\n",
    "        df[column] = df[column].astype('category')\n",
    "# Create a list of columns to be made into category\n",
    "categorical_columns = [\\\n",
    "    'Sex',\n",
    "    'AE_Arrival_Mode',\n",
    "    'Admission_Method',\n",
    "    'ICD10_Chapter_Code',\n",
    "    'Treatment_Function_Code'\n",
    "    ]\n",
    "# Convert columns into category\n",
    "covert_to_categorical(aedata_df,categorical_columns)\n",
    "# Check the dtypes\n",
    "aedata_df[categorical_columns].dtypes"
   ]
  },
  {
   "cell_type": "code",
   "execution_count": 95,
   "metadata": {},
   "outputs": [
    {
     "name": "stdout",
     "output_type": "stream",
     "text": [
      "IMD_Decile_From_LSOA : [ 2  3  1  4  8  9  5  7  6 10]\n",
      "Age_Band : ['1-17' '65-84' '85+' '18-24' '45-64' '25-44']\n",
      "AE_Arrive_HourOfDay : ['17-20' '13-16' '05-08' '21-24' '09-12' '01-04']\n",
      "AE_HRG : ['Nothing' 'Low' 'High' 'Medium' nan]\n"
     ]
    }
   ],
   "source": [
    "# 3. Convert column to categorical types\n",
    "# Create a list of columns to be made into ordered categorical data\n",
    "ordinal_columns = [\\\n",
    "    'IMD_Decile_From_LSOA',\n",
    "    'Age_Band',\n",
    "    'AE_Arrive_HourOfDay',\n",
    "    'AE_HRG'\n",
    "    ]\n",
    "# Check the different values of the columns to be changed into ordered category\n",
    "# Create a function to print the unique values\n",
    "def check_unique_values(df, column_list):\n",
    "    for column in column_list:\n",
    "        print(f'{column} : {df[column].unique()}')\n",
    "# Check the unique values of the identified ordered categorical types\n",
    "check_unique_values(aedata_df, ordinal_columns)"
   ]
  },
  {
   "cell_type": "code",
   "execution_count": 96,
   "metadata": {},
   "outputs": [],
   "source": [
    "# Convert the ordered_categorical_columns into category type\n",
    "covert_to_categorical(aedata_df,ordinal_columns)\n",
    "# Create a dictionary that shows the order of the values\n",
    "ordinal_columns_dict={\\\n",
    "    'IMD_Decile_From_LSOA': [1,2,3,4,5,6,7,8,9,10],\n",
    "    'Age_Band':['1-17','18-24','25-44', '45-64', '65-84', '85+'],\n",
    "    'AE_Arrive_HourOfDay':['01-04','05-08','09-12','13-16','17-20','21-24'],\n",
    "    'AE_HRG':['Nothing','Low','Medium','High']\n",
    "    }\n",
    "# Create a function that uses a dictionary to order the ordinal columns\n",
    "def order_categorical(df, column_dict):\n",
    "    for column in column_dict:\n",
    "        df[column] = df[column].cat.set_categories(column_dict[column], ordered=True)\n",
    "# Order the ordinal categorical data\n",
    "order_categorical(aedata_df,ordinal_columns_dict)"
   ]
  },
  {
   "cell_type": "code",
   "execution_count": 97,
   "metadata": {},
   "outputs": [
    {
     "name": "stdout",
     "output_type": "stream",
     "text": [
      "0         2\n",
      "1         2\n",
      "2         3\n",
      "3         1\n",
      "4         2\n",
      "         ..\n",
      "326439    1\n",
      "326440    3\n",
      "326441    3\n",
      "326442    2\n",
      "326443    2\n",
      "Name: IMD_Decile_From_LSOA, Length: 326444, dtype: category\n",
      "Categories (10, int64): [1 < 2 < 3 < 4 ... 7 < 8 < 9 < 10]\n",
      "0          1-17\n",
      "1         65-84\n",
      "2          1-17\n",
      "3           85+\n",
      "4          1-17\n",
      "          ...  \n",
      "326439     1-17\n",
      "326440    65-84\n",
      "326441    25-44\n",
      "326442    45-64\n",
      "326443    65-84\n",
      "Name: Age_Band, Length: 326444, dtype: category\n",
      "Categories (6, object): ['1-17' < '18-24' < '25-44' < '45-64' < '65-84' < '85+']\n",
      "0         17-20\n",
      "1         13-16\n",
      "2         17-20\n",
      "3         05-08\n",
      "4         13-16\n",
      "          ...  \n",
      "326439    21-24\n",
      "326440    21-24\n",
      "326441    01-04\n",
      "326442    17-20\n",
      "326443    13-16\n",
      "Name: AE_Arrive_HourOfDay, Length: 326444, dtype: category\n",
      "Categories (6, object): ['01-04' < '05-08' < '09-12' < '13-16' < '17-20' < '21-24']\n",
      "0         Nothing\n",
      "1             Low\n",
      "2             Low\n",
      "3             Low\n",
      "4             Low\n",
      "           ...   \n",
      "326439     Medium\n",
      "326440     Medium\n",
      "326441     Medium\n",
      "326442     Medium\n",
      "326443        Low\n",
      "Name: AE_HRG, Length: 326444, dtype: category\n",
      "Categories (4, object): ['Nothing' < 'Low' < 'Medium' < 'High']\n"
     ]
    }
   ],
   "source": [
    "# Check the ordinal columns\n",
    "for column in ordinal_columns:\n",
    "    print(aedata_df[column])"
   ]
  },
  {
   "cell_type": "code",
   "execution_count": 98,
   "metadata": {},
   "outputs": [
    {
     "name": "stdout",
     "output_type": "stream",
     "text": [
      "       IMD_Decile_From_LSOA Age_Band Sex AE_Arrive_Date AE_Arrive_HourOfDay  \\\n",
      "42                        5    65-84   1     2017-01-05               05-08   \n",
      "90                        3    65-84   2     2018-01-09               13-16   \n",
      "190                       1     1-17   1     2017-03-28               05-08   \n",
      "231                       2     1-17   2     2016-07-05               09-12   \n",
      "289                       1     1-17   1     2015-08-26               09-12   \n",
      "...                     ...      ...  ..            ...                 ...   \n",
      "326188                    2    25-44   2     2016-01-30               13-16   \n",
      "326324                    6    65-84   2     2016-09-03               09-12   \n",
      "326343                    5    45-64   2     2018-03-18               09-12   \n",
      "326358                    4    25-44   1     2015-04-12               13-16   \n",
      "326364                    2    65-84   2     2016-03-24               21-24   \n",
      "\n",
      "        AE_Time_Mins   AE_HRG  AE_Num_Diagnoses  AE_Num_Investigations  \\\n",
      "42             320.0     High                 0                     10   \n",
      "90             160.0   Medium                 0                     10   \n",
      "190            320.0  Nothing                 0                      1   \n",
      "231            220.0   Medium                 0                      5   \n",
      "289            140.0   Medium                 0                     10   \n",
      "...              ...      ...               ...                    ...   \n",
      "326188         170.0      Low                 0                      1   \n",
      "326324         220.0      Low                 0                      5   \n",
      "326343         360.0      Low                 1                      2   \n",
      "326358         210.0     High                 1                      7   \n",
      "326364         600.0     High                 0                     10   \n",
      "\n",
      "        AE_Num_Treatments AE_Arrival_Mode  Provider_Patient_Distance_Miles  \\\n",
      "42                      5               1                              5.0   \n",
      "90                      3               1                              5.0   \n",
      "190                     1               1                              1.0   \n",
      "231                     5               1                              2.0   \n",
      "289                     6               1                              0.0   \n",
      "...                   ...             ...                              ...   \n",
      "326188                  4               2                              1.0   \n",
      "326324                  3               1                              2.0   \n",
      "326343                  0               2                            152.0   \n",
      "326358                  6               2                              3.0   \n",
      "326364                  5               1                              2.0   \n",
      "\n",
      "       Admission_Method ICD10_Chapter_Code Treatment_Function_Code  \\\n",
      "42                   21                NaN                     300   \n",
      "90                   21                NaN                     300   \n",
      "190                  21                NaN                     100   \n",
      "231                  21                NaN                     420   \n",
      "289                  21                NaN                   OTHER   \n",
      "...                 ...                ...                     ...   \n",
      "326188               21                NaN                     300   \n",
      "326324               21                NaN                     100   \n",
      "326343               21                NaN                     100   \n",
      "326358               21                NaN                     300   \n",
      "326364               21                NaN                     300   \n",
      "\n",
      "        Length_Of_Stay_Days Year_Month  \n",
      "42                      3.0    2017-01  \n",
      "90                      0.0    2018-01  \n",
      "190                     0.0    2017-03  \n",
      "231                     1.0    2016-07  \n",
      "289                     0.0    2015-08  \n",
      "...                     ...        ...  \n",
      "326188                  0.0    2016-01  \n",
      "326324                  8.0    2016-09  \n",
      "326343                 11.0    2018-03  \n",
      "326358                  0.0    2015-04  \n",
      "326364                  1.0    2016-03  \n",
      "\n",
      "[4696 rows x 17 columns]\n"
     ]
    }
   ],
   "source": [
    "# 4. Check the rows that have null values\n",
    "print(aedata_df[aedata_df.isna().any(axis=1)])"
   ]
  },
  {
   "attachments": {},
   "cell_type": "markdown",
   "metadata": {},
   "source": [
    "What percentage of the rows in the dataset have missing values?"
   ]
  },
  {
   "cell_type": "code",
   "execution_count": 99,
   "metadata": {},
   "outputs": [
    {
     "name": "stdout",
     "output_type": "stream",
     "text": [
      "1.44 % of rows have a null value.\n"
     ]
    }
   ],
   "source": [
    "# Compute the percentage of rows that have missing values\n",
    "print(f\"{round(len(aedata_df[aedata_df.isna().any(axis=1)])/len(aedata_df)*100,2)} % of rows have a null value.\")"
   ]
  },
  {
   "attachments": {},
   "cell_type": "markdown",
   "metadata": {},
   "source": [
    "Theoretically, these null values would need to be farther assessed. Weather the null values are missing in a systematic way or purely random, weather the missing values could be imputed etc. But in the interest of time, I decided to remove the rows that have null values."
   ]
  },
  {
   "cell_type": "code",
   "execution_count": 100,
   "metadata": {},
   "outputs": [
    {
     "name": "stdout",
     "output_type": "stream",
     "text": [
      "<class 'pandas.core.frame.DataFrame'>\n",
      "Int64Index: 321748 entries, 0 to 326443\n",
      "Data columns (total 17 columns):\n",
      " #   Column                           Non-Null Count   Dtype         \n",
      "---  ------                           --------------   -----         \n",
      " 0   IMD_Decile_From_LSOA             321748 non-null  category      \n",
      " 1   Age_Band                         321748 non-null  category      \n",
      " 2   Sex                              321748 non-null  category      \n",
      " 3   AE_Arrive_Date                   321748 non-null  datetime64[ns]\n",
      " 4   AE_Arrive_HourOfDay              321748 non-null  category      \n",
      " 5   AE_Time_Mins                     321748 non-null  float64       \n",
      " 6   AE_HRG                           321748 non-null  category      \n",
      " 7   AE_Num_Diagnoses                 321748 non-null  int64         \n",
      " 8   AE_Num_Investigations            321748 non-null  int64         \n",
      " 9   AE_Num_Treatments                321748 non-null  int64         \n",
      " 10  AE_Arrival_Mode                  321748 non-null  category      \n",
      " 11  Provider_Patient_Distance_Miles  321748 non-null  float64       \n",
      " 12  Admission_Method                 321748 non-null  category      \n",
      " 13  ICD10_Chapter_Code               321748 non-null  category      \n",
      " 14  Treatment_Function_Code          321748 non-null  category      \n",
      " 15  Length_Of_Stay_Days              321748 non-null  float64       \n",
      " 16  Year_Month                       321748 non-null  period[M]     \n",
      "dtypes: category(9), datetime64[ns](1), float64(3), int64(3), period[M](1)\n",
      "memory usage: 24.9 MB\n"
     ]
    }
   ],
   "source": [
    "# Remove rows that have null values\n",
    "aedata_df.dropna(axis=0,inplace=True)\n",
    "# Check again the info of the working dataframe\n",
    "aedata_df.info()"
   ]
  },
  {
   "cell_type": "code",
   "execution_count": 101,
   "metadata": {},
   "outputs": [
    {
     "name": "stdout",
     "output_type": "stream",
     "text": [
      "                                    count        mean         std  min    25%  \\\n",
      "AE_Time_Mins                     321748.0  286.239510  172.121087  0.0  200.0   \n",
      "AE_Num_Diagnoses                 321748.0    0.341323    0.696037  0.0    0.0   \n",
      "AE_Num_Investigations            321748.0    6.778420    3.480049  0.0    4.0   \n",
      "AE_Num_Treatments                321748.0    3.599043    2.351271  0.0    2.0   \n",
      "Provider_Patient_Distance_Miles  321748.0    4.751557   13.997934  0.0    1.0   \n",
      "Length_Of_Stay_Days              321748.0    4.329659    9.588165  0.0    0.0   \n",
      "\n",
      "                                   50%    75%     max  \n",
      "AE_Time_Mins                     240.0  340.0  1440.0  \n",
      "AE_Num_Diagnoses                   0.0    1.0    10.0  \n",
      "AE_Num_Investigations              8.0   10.0    10.0  \n",
      "AE_Num_Treatments                  3.0    5.0    10.0  \n",
      "Provider_Patient_Distance_Miles    2.0    4.0   200.0  \n",
      "Length_Of_Stay_Days                1.0    4.0   180.0  \n"
     ]
    }
   ],
   "source": [
    "# descriptive statistics for numeric variables\n",
    "print(aedata_df.describe().T)"
   ]
  },
  {
   "cell_type": "code",
   "execution_count": 102,
   "metadata": {},
   "outputs": [
    {
     "name": "stdout",
     "output_type": "stream",
     "text": [
      "                          count unique      top    freq\n",
      "IMD_Decile_From_LSOA     321748     10        2   95761\n",
      "Age_Band                 321748      6    65-84   76271\n",
      "Sex                      321748      2        2  170867\n",
      "AE_Arrive_HourOfDay      321748      6    13-16   74756\n",
      "AE_HRG                   321748      4      Low  148553\n",
      "AE_Arrival_Mode          321748      3        2  164940\n",
      "Admission_Method         321748      9       21  309283\n",
      "ICD10_Chapter_Code       321748      7    Other   91366\n",
      "Treatment_Function_Code  321748      5      180  102532\n",
      "Year_Month               321748     49  2016-03    8089\n"
     ]
    }
   ],
   "source": [
    "# descriptive statistics for categorical variables\n",
    "print(aedata_df[[\\\n",
    "    'IMD_Decile_From_LSOA',\n",
    "    'Age_Band',\n",
    "    'Sex',\n",
    "    'AE_Arrive_HourOfDay',\n",
    "    'AE_HRG',\n",
    "    'AE_Arrival_Mode',\n",
    "    'Admission_Method',\n",
    "    'ICD10_Chapter_Code',\n",
    "    'Treatment_Function_Code',\n",
    "    'Year_Month'\n",
    "    ]].describe().T)"
   ]
  },
  {
   "attachments": {},
   "cell_type": "markdown",
   "metadata": {},
   "source": [
    "### What is the structure of your dataset?\n",
    "\n",
    "> There are 321,749 A&E patient consult in the working dataset with 17 features. Two are date or period data, 6 are numeric variables, 5 categorical variables and 4 ordinal variables.\n",
    "> For the ordinal variables the following are values arranged smallest to largest:\n",
    "> * `IMD_Decile_From_LSOA`: 1,2,3,4,5,6,7,8,9,10\n",
    "> * `Age_Band`: 1-17, 18-24, 25-44, 45-64, 65-84, 85+\n",
    "> * `AE_Arrive_HourOfDay`: 01-04, 05-08, 09-12, 13-16, 17-20, 21-24\n",
    "> * `AE_HRG`: Nothing, Low, Medium, High\n",
    "\n",
    "### What is/are the main feature(s) of interest in your dataset?\n",
    "\n",
    "> There are two main features that I am interested in. I want to figure out what are the features that could help in predicting the amount of time spent in the A&E (`AE_Time_Mins`) and how many days spent admitted (`Length_Of_Stay_Days`).\n",
    "\n",
    "### What features in the dataset do you think will help support your investigation into your feature(s) of interest?\n",
    "\n",
    "> For the amount of time spent in the A&E, I expect `AE_Num_Investigations`, `AE_Num_Treatments`, and `Year_Month` would be a huge factor\n",
    "> For the days spend admitted, I expect more sociodemographic factor such as `IMD_Decile_From_LSOA`, `Age_Band` and `Provider_Patient_Distance_Miles` would play a role. My hypothesis is that there could be delays in the discharge of patients if sociodemographic factors would hinder post-admission care."
   ]
  },
  {
   "cell_type": "markdown",
   "metadata": {},
   "source": [
    "## Univariate Exploration\n",
    "\n",
    "> In this section, investigate distributions of individual variables. If\n",
    "you see unusual points or outliers, take a deeper look to clean things up\n",
    "and prepare yourself to look at relationships between variables.\n",
    "\n",
    "\n",
    "> **Rubric Tip**: The project (Parts I alone) should have at least 15 visualizations distributed over univariate, bivariate, and multivariate plots to explore many relationships in the data set.  Use reasoning to justify the flow of the exploration.\n",
    "\n",
    "\n",
    "\n",
    ">**Rubric Tip**: Use the \"Question-Visualization-Observations\" framework  throughout the exploration. This framework involves **asking a question from the data, creating a visualization to find answers, and then recording observations after each visualisation.** \n"
   ]
  },
  {
   "attachments": {},
   "cell_type": "markdown",
   "metadata": {},
   "source": [
    "### Dependent Variable"
   ]
  },
  {
   "attachments": {},
   "cell_type": "markdown",
   "metadata": {},
   "source": [
    "What are the distribution of the main variables?"
   ]
  },
  {
   "attachments": {},
   "cell_type": "markdown",
   "metadata": {},
   "source": [
    "#### Amount of time at the A&E"
   ]
  },
  {
   "cell_type": "code",
   "execution_count": 141,
   "metadata": {},
   "outputs": [],
   "source": [
    "# Create a function that creates histograms\n",
    "def create_histogram(data, x, title, log_scale=False):\n",
    "    plt.figure(figsize=(20,10))\n",
    "    sns.histplot(data=data, x=x, log_scale=log_scale)\n",
    "    plt.xlabel(title)\n",
    "    plt.title(f'Histogram of the {title}')\n"
   ]
  },
  {
   "cell_type": "code",
   "execution_count": 131,
   "metadata": {},
   "outputs": [
    {
     "data": {
      "image/png": "[encoded data removed]",
      "text/plain": [
       "<Figure size 1440x720 with 1 Axes>"
      ]
     },
     "metadata": {
      "needs_background": "light"
     },
     "output_type": "display_data"
    }
   ],
   "source": [
    "# plot the histogram of the amount of time at the A&E\n",
    "create_histogram(aedata_df,'AE_Time_Mins', 'Total Time Spent in the A&E (min)')"
   ]
  },
  {
   "attachments": {},
   "cell_type": "markdown",
   "metadata": {},
   "source": [
    "The total time spent by admitted patient in the A&E initially initially peaked at around between 0-50min then reach the highest point at around 200-250min then a small peak at around 300-400min."
   ]
  },
  {
   "attachments": {},
   "cell_type": "markdown",
   "metadata": {},
   "source": [
    "Since there is a long tail in the distribution, what does the ditribution look like in log scale?"
   ]
  },
  {
   "cell_type": "code",
   "execution_count": 150,
   "metadata": {},
   "outputs": [],
   "source": [
    "# Create a function that graphs a histogram of the log of a variable\n",
    "def create_his_log(data, x, title):\n",
    "    data_copy = data\n",
    "    data_copy['log_var']=np.log10(data[x])\n",
    "    create_histogram(data_copy, 'log_var', title)"
   ]
  },
  {
   "cell_type": "code",
   "execution_count": 153,
   "metadata": {},
   "outputs": [
    {
     "name": "stderr",
     "output_type": "stream",
     "text": [
      "/home/biogear13/miniconda3/envs/minimal_ds/lib/python3.10/site-packages/pandas/core/arraylike.py:364: RuntimeWarning: divide by zero encountered in log10\n",
      "  result = getattr(ufunc, method)(*inputs, **kwargs)\n"
     ]
    },
    {
     "data": {
      "text/plain": [
       "([<matplotlib.axis.XTick at 0x7f958b568040>,\n",
       "  <matplotlib.axis.XTick at 0x7f958c356d70>,\n",
       "  <matplotlib.axis.XTick at 0x7f958b54d240>,\n",
       "  <matplotlib.axis.XTick at 0x7f958b4ff430>,\n",
       "  <matplotlib.axis.XTick at 0x7f958b4ffb80>,\n",
       "  <matplotlib.axis.XTick at 0x7f958b4f0310>],\n",
       " [Text(0.0, 0, '0'),\n",
       "  Text(1.0, 0, '10'),\n",
       "  Text(1.5, 0, '31.63'),\n",
       "  Text(2.0, 0, '100'),\n",
       "  Text(2.5, 0, '316.23'),\n",
       "  Text(3.0, 0, '1k')])"
      ]
     },
     "execution_count": 153,
     "metadata": {},
     "output_type": "execute_result"
    },
    {
     "data": {
      "image/png": "[encoded data removed]",
      "text/plain": [
       "<Figure size 1440x720 with 1 Axes>"
      ]
     },
     "metadata": {
      "needs_background": "light"
     },
     "output_type": "display_data"
    }
   ],
   "source": [
    "# Plot the histogram of the log of the value\n",
    "create_his_log(aedata_df, 'AE_Time_Mins', 'Log of Total Time Spent in the A&E (*100 min)')\n",
    "# Change the xticks to be more understandable\n",
    "plt.xticks([0,1.0,1.5,2.0,2.5,3.0], [0, 10, 31.63, 100, 316.23, '1k'])"
   ]
  },
  {
   "attachments": {},
   "cell_type": "markdown",
   "metadata": {},
   "source": [
    "In the graph we see that the number of minutes, there are two peaks. One is between 100 to 316 min followed by sharp decline then another peak albeight at a far lesser magnitude at 318.23min."
   ]
  },
  {
   "attachments": {},
   "cell_type": "markdown",
   "metadata": {},
   "source": [
    "### Number of Days admitted"
   ]
  },
  {
   "cell_type": "code",
   "execution_count": 134,
   "metadata": {},
   "outputs": [
    {
     "data": {
      "image/png": "[encoded data removed]",
      "text/plain": [
       "<Figure size 1440x720 with 1 Axes>"
      ]
     },
     "metadata": {
      "needs_background": "light"
     },
     "output_type": "display_data"
    }
   ],
   "source": [
    "# plot the histogram of the number of days in the A&E\n",
    "create_histogram(aedata_df,'Length_Of_Stay_Days', 'Total Number of Days Admitted')"
   ]
  },
  {
   "cell_type": "code",
   "execution_count": 155,
   "metadata": {},
   "outputs": [
    {
     "name": "stderr",
     "output_type": "stream",
     "text": [
      "/home/biogear13/miniconda3/envs/minimal_ds/lib/python3.10/site-packages/pandas/core/arraylike.py:364: RuntimeWarning: divide by zero encountered in log10\n",
      "  result = getattr(ufunc, method)(*inputs, **kwargs)\n"
     ]
    },
    {
     "data": {
      "text/plain": [
       "([<matplotlib.axis.XTick at 0x7f958b8e06a0>,\n",
       "  <matplotlib.axis.XTick at 0x7f958b8e0670>,\n",
       "  <matplotlib.axis.XTick at 0x7f958b9056c0>,\n",
       "  <matplotlib.axis.XTick at 0x7f958ab689a0>,\n",
       "  <matplotlib.axis.XTick at 0x7f958ab690f0>],\n",
       " [Text(0.0, 0, '0'),\n",
       "  Text(0.5, 0, '3.16'),\n",
       "  Text(1.0, 0, '10'),\n",
       "  Text(1.5, 0, '31.63'),\n",
       "  Text(2.0, 0, '100')])"
      ]
     },
     "execution_count": 155,
     "metadata": {},
     "output_type": "execute_result"
    },
    {
     "data": {
      "image/png": "[encoded data removed]",
      "text/plain": [
       "<Figure size 1440x720 with 1 Axes>"
      ]
     },
     "metadata": {
      "needs_background": "light"
     },
     "output_type": "display_data"
    }
   ],
   "source": [
    "# There is a long tail in the distribution so I will look into the log scale\n",
    "create_his_log(aedata_df, 'Length_Of_Stay_Days', 'Log of Total Number of Days Admitted')\n",
    "# Change the xticks to be more understandable\n",
    "plt.xticks([0,0.5,1.0,1.5,2.0], [0, 3.16, 10, 31.63, 100])"
   ]
  },
  {
   "attachments": {},
   "cell_type": "markdown",
   "metadata": {},
   "source": [
    "Total number of days admitted has a long-tailed distribution and when ploted in a logarithmic scale we could see that the highest is at less than 3 days."
   ]
  },
  {
   "attachments": {},
   "cell_type": "markdown",
   "metadata": {},
   "source": [
    "### Independent Variables"
   ]
  },
  {
   "attachments": {},
   "cell_type": "markdown",
   "metadata": {},
   "source": [
    "##### Numeric variables"
   ]
  },
  {
   "attachments": {},
   "cell_type": "markdown",
   "metadata": {},
   "source": [
    "First we will look at the distributions of the numeric variables."
   ]
  },
  {
   "attachments": {},
   "cell_type": "markdown",
   "metadata": {},
   "source": [
    "Number of diagnosis"
   ]
  },
  {
   "attachments": {},
   "cell_type": "markdown",
   "metadata": {},
   "source": [
    "* We will look at the number of diagnosis at the A&E."
   ]
  },
  {
   "cell_type": "code",
   "execution_count": 136,
   "metadata": {},
   "outputs": [
    {
     "data": {
      "image/png": "[encoded data removed]",
      "text/plain": [
       "<Figure size 1440x720 with 1 Axes>"
      ]
     },
     "metadata": {
      "needs_background": "light"
     },
     "output_type": "display_data"
    }
   ],
   "source": [
    "# Create a histogram of the number of diagnosis at the A&E\n",
    "create_histogram(aedata_df,'AE_Num_Diagnoses', 'Number of Diagnoses at the A&E')"
   ]
  },
  {
   "attachments": {},
   "cell_type": "markdown",
   "metadata": {},
   "source": [
    "* The vast majority have zero diagnoses at the A&E"
   ]
  },
  {
   "attachments": {},
   "cell_type": "markdown",
   "metadata": {},
   "source": [
    "Number of investigations"
   ]
  },
  {
   "attachments": {},
   "cell_type": "markdown",
   "metadata": {},
   "source": [
    "* We will look at the number of investigations done at the A&E"
   ]
  },
  {
   "cell_type": "code",
   "execution_count": 137,
   "metadata": {},
   "outputs": [
    {
     "data": {
      "image/png": "[encoded data removed]",
      "text/plain": [
       "<Figure size 1440x720 with 1 Axes>"
      ]
     },
     "metadata": {
      "needs_background": "light"
     },
     "output_type": "display_data"
    }
   ],
   "source": [
    "# Create a histogram\n",
    "create_histogram(aedata_df,'AE_Num_Investigations', 'Number of Investigations Done at the A&E')"
   ]
  },
  {
   "attachments": {},
   "cell_type": "markdown",
   "metadata": {},
   "source": [
    "* Distribution of the variable seems to be bimodal. The first peak is at one investigation done and the next and the mojority is at 10 investigations done"
   ]
  },
  {
   "attachments": {},
   "cell_type": "markdown",
   "metadata": {},
   "source": [
    "Number of Treatments"
   ]
  },
  {
   "attachments": {},
   "cell_type": "markdown",
   "metadata": {},
   "source": [
    "* Looking at the number of treatments done at the A&E"
   ]
  },
  {
   "cell_type": "code",
   "execution_count": 138,
   "metadata": {},
   "outputs": [
    {
     "data": {
      "image/png": "[encoded data removed]",
      "text/plain": [
       "<Figure size 1440x720 with 1 Axes>"
      ]
     },
     "metadata": {
      "needs_background": "light"
     },
     "output_type": "display_data"
    }
   ],
   "source": [
    "# Creating a historgram\n",
    "create_histogram(aedata_df,'AE_Num_Treatments', 'Number of Treatments Done at the A&E')"
   ]
  },
  {
   "attachments": {},
   "cell_type": "markdown",
   "metadata": {},
   "source": [
    "* The distribution looks more like a normal ditribution but the highest counts is seen at 1 and 3 treatments done."
   ]
  },
  {
   "attachments": {},
   "cell_type": "markdown",
   "metadata": {},
   "source": [
    "Provider to Patient Distance"
   ]
  },
  {
   "attachments": {},
   "cell_type": "markdown",
   "metadata": {},
   "source": [
    "* The following will look at distribution of the `Provider_Patient_Distance_Miles` variable"
   ]
  },
  {
   "cell_type": "code",
   "execution_count": 139,
   "metadata": {},
   "outputs": [
    {
     "data": {
      "image/png": "[encoded data removed]",
      "text/plain": [
       "<Figure size 1440x720 with 1 Axes>"
      ]
     },
     "metadata": {
      "needs_background": "light"
     },
     "output_type": "display_data"
    }
   ],
   "source": [
    "# Creating a historgram\n",
    "create_histogram(aedata_df,'Provider_Patient_Distance_Miles', 'Distance Between Provider and Patient (miles)')"
   ]
  },
  {
   "cell_type": "code",
   "execution_count": 156,
   "metadata": {},
   "outputs": [
    {
     "name": "stderr",
     "output_type": "stream",
     "text": [
      "/home/biogear13/miniconda3/envs/minimal_ds/lib/python3.10/site-packages/pandas/core/arraylike.py:364: RuntimeWarning: divide by zero encountered in log10\n",
      "  result = getattr(ufunc, method)(*inputs, **kwargs)\n"
     ]
    },
    {
     "data": {
      "text/plain": [
       "([<matplotlib.axis.XTick at 0x7f958abd61a0>,\n",
       "  <matplotlib.axis.XTick at 0x7f958abd6170>,\n",
       "  <matplotlib.axis.XTick at 0x7f958ac273d0>,\n",
       "  <matplotlib.axis.XTick at 0x7f958988a320>,\n",
       "  <matplotlib.axis.XTick at 0x7f958988aa70>],\n",
       " [Text(0.0, 0, '0'),\n",
       "  Text(0.5, 0, '3.16'),\n",
       "  Text(1.0, 0, '10'),\n",
       "  Text(1.5, 0, '31.63'),\n",
       "  Text(2.0, 0, '100')])"
      ]
     },
     "execution_count": 156,
     "metadata": {},
     "output_type": "execute_result"
    },
    {
     "data": {
      "image/png": "[encoded data removed]",
      "text/plain": [
       "<Figure size 1440x720 with 1 Axes>"
      ]
     },
     "metadata": {
      "needs_background": "light"
     },
     "output_type": "display_data"
    }
   ],
   "source": [
    "# There is a long tail in the distribution so I will look into the log scale\n",
    "create_his_log(aedata_df, 'Provider_Patient_Distance_Miles', 'Log of Distance Between Provider and Patient (miles)')\n",
    "# Change the xticks to be more understandable\n",
    "plt.xticks([0,0.5,1.0,1.5,2.0], [0, 3.16, 10, 31.63, 100])"
   ]
  },
  {
   "attachments": {},
   "cell_type": "markdown",
   "metadata": {},
   "source": [
    "* It could be seen that the majority of patients are located less than 3 miles from the A&E care provider"
   ]
  },
  {
   "attachments": {},
   "cell_type": "markdown",
   "metadata": {},
   "source": [
    "##### Categorical variables"
   ]
  },
  {
   "attachments": {},
   "cell_type": "markdown",
   "metadata": {},
   "source": [
    "Sex:"
   ]
  },
  {
   "attachments": {},
   "cell_type": "markdown",
   "metadata": {},
   "source": [
    "What is the distribution of our A&E consults by sex?"
   ]
  },
  {
   "cell_type": "code",
   "execution_count": 158,
   "metadata": {},
   "outputs": [],
   "source": [
    "# Create a function to create a count plot\n",
    "def create_countplot(data, x, title):\n",
    "    plt.figure(figsize=(20,10))\n",
    "    sns.countplot(data=data, x=x)\n",
    "    plt.xlabel(title)\n",
    "    plt.title(f'Distribution of the {title}')"
   ]
  },
  {
   "cell_type": "code",
   "execution_count": 159,
   "metadata": {},
   "outputs": [
    {
     "data": {
      "image/png": "[encoded data removed]",
      "text/plain": [
       "<Figure size 1440x720 with 1 Axes>"
      ]
     },
     "metadata": {
      "needs_background": "light"
     },
     "output_type": "display_data"
    }
   ],
   "source": [
    "# Create the count plot for sex\n",
    "create_countplot(aedata_df,'Sex', 'Number of A&E Consult by Sex')"
   ]
  },
  {
   "attachments": {},
   "cell_type": "markdown",
   "metadata": {},
   "source": [
    "* Almost equal"
   ]
  },
  {
   "cell_type": "markdown",
   "metadata": {},
   "source": []
  },
  {
   "attachments": {},
   "cell_type": "markdown",
   "metadata": {},
   "source": [
    "Indices of Multiple Deprivation:"
   ]
  },
  {
   "attachments": {},
   "cell_type": "markdown",
   "metadata": {},
   "source": [
    "The variable `IMD_Decile_From_LSOA` is a measure of how deprived the area where the patient comes from. For the A&E Provider we are analyzing, what is the di"
   ]
  },
  {
   "cell_type": "markdown",
   "metadata": {},
   "source": [
    "\n",
    "\n",
    ">**Rubric Tip**: Visualizations should depict the data appropriately so that the plots are easily interpretable. You should choose an appropriate plot type, data encodings, and formatting as needed. The formatting may include setting/adding the title, labels, legend, and comments. Also, do not overplot or incorrectly plot ordinal data."
   ]
  },
  {
   "cell_type": "markdown",
   "metadata": {},
   "source": [
    "### Discuss the distribution(s) of your variable(s) of interest. Were there any unusual points? Did you need to perform any transformations?\n",
    "\n",
    "> Your answer here!\n",
    "\n",
    "### Of the features you investigated, were there any unusual distributions? Did you perform any operations on the data to tidy, adjust, or change the form of the data? If so, why did you do this?\n",
    "\n",
    "> Your answer here!"
   ]
  },
  {
   "cell_type": "markdown",
   "metadata": {},
   "source": [
    "## Bivariate Exploration\n",
    "\n",
    "> In this section, investigate relationships between pairs of variables in your\n",
    "data. Make sure the variables that you cover here have been introduced in some\n",
    "fashion in the previous section (univariate exploration)."
   ]
  },
  {
   "cell_type": "code",
   "execution_count": null,
   "metadata": {},
   "outputs": [],
   "source": []
  },
  {
   "cell_type": "markdown",
   "metadata": {},
   "source": [
    "### Talk about some of the relationships you observed in this part of the investigation. How did the feature(s) of interest vary with other features in the dataset?\n",
    "\n",
    "> Your answer here!\n",
    "\n",
    "### Did you observe any interesting relationships between the other features (not the main feature(s) of interest)?\n",
    "\n",
    "> Your answer here!"
   ]
  },
  {
   "cell_type": "markdown",
   "metadata": {},
   "source": [
    "## Multivariate Exploration\n",
    "\n",
    "> Create plots of three or more variables to investigate your data even\n",
    "further. Make sure that your investigations are justified, and follow from\n",
    "your work in the previous sections."
   ]
  },
  {
   "cell_type": "code",
   "execution_count": null,
   "metadata": {},
   "outputs": [],
   "source": []
  },
  {
   "cell_type": "markdown",
   "metadata": {},
   "source": [
    "### Talk about some of the relationships you observed in this part of the investigation. Were there features that strengthened each other in terms of looking at your feature(s) of interest?\n",
    "\n",
    "> Your answer here!\n",
    "\n",
    "### Were there any interesting or surprising interactions between features?\n",
    "\n",
    "> Your answer here!"
   ]
  },
  {
   "cell_type": "markdown",
   "metadata": {},
   "source": [
    "## Conclusions\n",
    ">You can write a summary of the main findings and reflect on the steps taken during the data exploration.\n"
   ]
  },
  {
   "cell_type": "markdown",
   "metadata": {},
   "source": [
    "\n",
    "> Remove all Tips mentioned above, before you convert this notebook to PDF/HTML\n",
    "\n",
    "\n",
    "> At the end of your report, make sure that you export the notebook as an\n",
    "html file from the `File > Download as... > HTML or PDF` menu. Make sure you keep\n",
    "track of where the exported file goes, so you can put it in the same folder\n",
    "as this notebook for project submission. Also, make sure you remove all of\n",
    "the quote-formatted guide notes like this one before you finish your report!\n",
    "\n"
   ]
  },
  {
   "cell_type": "code",
   "execution_count": null,
   "metadata": {},
   "outputs": [],
   "source": []
  }
 ],
 "metadata": {
  "kernelspec": {
   "display_name": "minimal_ds",
   "language": "python",
   "name": "python3"
  },
  "language_info": {
   "codemirror_mode": {
    "name": "ipython",
    "version": 3
   },
   "file_extension": ".py",
   "mimetype": "text/x-python",
   "name": "python",
   "nbconvert_exporter": "python",
   "pygments_lexer": "ipython3",
   "version": "3.10.0"
  },
  "vscode": {
   "interpreter": {
    "hash": "faa3abadd7b8b9169c06be42e72c83f3ab18538879e29609763ee83ad051eacb"
   }
  }
 },
 "nbformat": 4,
 "nbformat_minor": 2
}
